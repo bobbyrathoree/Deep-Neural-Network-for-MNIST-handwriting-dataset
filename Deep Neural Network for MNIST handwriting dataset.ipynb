{
 "cells": [
  {
   "cell_type": "code",
   "execution_count": 1,
   "metadata": {},
   "outputs": [
    {
     "name": "stdout",
     "output_type": "stream",
     "text": [
      "Extracting datasets/train-images-idx3-ubyte.gz\n",
      "Extracting datasets/train-labels-idx1-ubyte.gz\n",
      "Extracting datasets/t10k-images-idx3-ubyte.gz\n",
      "Extracting datasets/t10k-labels-idx1-ubyte.gz\n"
     ]
    }
   ],
   "source": [
    "import tensorflow as tf\n",
    "from tensorflow.examples.tutorials.mnist import input_data\n",
    "\n",
    "mnist = input_data.read_data_sets('datasets/', one_hot=True)\n",
    "n_nodes_hl1 = 500\n",
    "n_nodes_hl2 = 300\n",
    "n_nodes_hl3 = 1000\n",
    "n_nodes_hl4 = 800\n",
    "n_nodes_hl5 = 200\n",
    "\n",
    "n_classes = 10\n",
    "batch_size = 100\n",
    "\n",
    "x = tf.placeholder('float', [None, 784])\n",
    "y = tf.placeholder('float')"
   ]
  },
  {
   "cell_type": "code",
   "execution_count": 2,
   "metadata": {},
   "outputs": [],
   "source": [
    "# NN Model:\n",
    "def neural_network_model(data):\n",
    "    \n",
    "    hidden_layer_1 = {'weights': tf.Variable(tf.truncated_normal([784, n_nodes_hl1], stddev=0.1)), 'biases': tf.Variable(tf.constant(0.1, shape=[n_nodes_hl1]))}\n",
    "    hidden_layer_2 = {'weights': tf.Variable(tf.truncated_normal([n_nodes_hl1, n_nodes_hl2], stddev=0.1)), 'biases': tf.Variable(tf.constant(0.1, shape=[n_nodes_hl2]))}\n",
    "    hidden_layer_3 = {'weights': tf.Variable(tf.truncated_normal([n_nodes_hl2, n_nodes_hl3], stddev=0.1)), 'biases': tf.Variable(tf.constant(0.1, shape=[n_nodes_hl3]))}\n",
    "    hidden_layer_4 = {'weights': tf.Variable(tf.truncated_normal([n_nodes_hl3, n_nodes_hl4], stddev=0.1)), 'biases': tf.Variable(tf.constant(0.1, shape=[n_nodes_hl4]))}\n",
    "    hidden_layer_5 = {'weights': tf.Variable(tf.truncated_normal([n_nodes_hl4, n_nodes_hl5], stddev=0.1)), 'biases': tf.Variable(tf.constant(0.1, shape=[n_nodes_hl5]))}    \n",
    "    output_layer = {'weights': tf.Variable(tf.truncated_normal([n_nodes_hl5, n_classes], stddev=0.1)), 'biases': tf.Variable(tf.constant(0.1, shape=[n_classes]))}\n",
    "    \n",
    "    # Activation\n",
    "    l1 = tf.add(tf.matmul(data, hidden_layer_1['weights']), hidden_layer_1['biases'])\n",
    "    l1 = tf.nn.relu(l1)\n",
    "    \n",
    "    l2 = tf.add(tf.matmul(l1, hidden_layer_2['weights']), hidden_layer_2['biases'])\n",
    "    l2 = tf.nn.relu(l2)\n",
    "    \n",
    "    l3 = tf.add(tf.matmul(l2, hidden_layer_3['weights']), hidden_layer_3['biases'])\n",
    "    l3 = tf.nn.relu(l3)\n",
    "    \n",
    "    l4 = tf.add(tf.matmul(l3, hidden_layer_4['weights']), hidden_layer_4['biases'])\n",
    "    l4 = tf.nn.relu(l4)\n",
    "    \n",
    "    l5 = tf.add(tf.matmul(l4, hidden_layer_5['weights']), hidden_layer_5['biases'])\n",
    "    l5 = tf.nn.relu(l5)\n",
    "    \n",
    "    output = tf.add(tf.matmul(l5, output_layer['weights']), output_layer['biases'])\n",
    "    \n",
    "    return output"
   ]
  },
  {
   "cell_type": "code",
   "execution_count": 3,
   "metadata": {},
   "outputs": [],
   "source": [
    "# Training\n",
    "def train_neural_network(x):\n",
    "    prediction = neural_network_model(x)\n",
    "    cost = tf.reduce_mean(tf.nn.softmax_cross_entropy_with_logits_v2(logits=prediction, labels=y))\n",
    "    \n",
    "    # minimize cost\n",
    "    optimizer = tf.train.AdamOptimizer().minimize(cost)\n",
    "    \n",
    "    # how many epochs\n",
    "    hm_epochs = 30\n",
    "    \n",
    "    with tf.Session() as sess:\n",
    "        \n",
    "        sess.run(tf.global_variables_initializer())\n",
    "        \n",
    "        for epoch in range(hm_epochs):\n",
    "            epoch_loss = 0\n",
    "            for _ in range(int(mnist.train.num_examples / batch_size)):\n",
    "                epoch_x, epoch_y = mnist.train.next_batch(batch_size)\n",
    "                _, c = sess.run([optimizer, cost], feed_dict={x: epoch_x, y: epoch_y})\n",
    "                epoch_loss += c\n",
    "            print('Epoch:', epoch+1, 'completed out of', hm_epochs, ', Loss:', epoch_loss)\n",
    "            \n",
    "        correct = tf.equal(tf.argmax(prediction, 1), tf.argmax(y, 1))\n",
    "        accuracy = tf.reduce_mean(tf.cast(correct, 'float'))\n",
    "        print('Accuracy: ', accuracy.eval({x: mnist.test.images, y: mnist.test.labels})*100)"
   ]
  },
  {
   "cell_type": "code",
   "execution_count": 4,
   "metadata": {},
   "outputs": [
    {
     "name": "stdout",
     "output_type": "stream",
     "text": [
      "Epoch: 1 completed out of 30 , Loss: 158.274020832\n",
      "Epoch: 2 completed out of 30 , Loss: 55.6228601895\n",
      "Epoch: 3 completed out of 30 , Loss: 37.719565466\n",
      "Epoch: 4 completed out of 30 , Loss: 29.5218620496\n",
      "Epoch: 5 completed out of 30 , Loss: 26.122462161\n",
      "Epoch: 6 completed out of 30 , Loss: 22.5012873268\n",
      "Epoch: 7 completed out of 30 , Loss: 19.0429405538\n",
      "Epoch: 8 completed out of 30 , Loss: 18.6789859113\n",
      "Epoch: 9 completed out of 30 , Loss: 18.7909681791\n",
      "Epoch: 10 completed out of 30 , Loss: 15.8628178182\n",
      "Epoch: 11 completed out of 30 , Loss: 12.9302469189\n",
      "Epoch: 12 completed out of 30 , Loss: 13.8480301693\n",
      "Epoch: 13 completed out of 30 , Loss: 14.1598817715\n",
      "Epoch: 14 completed out of 30 , Loss: 11.8149101855\n",
      "Epoch: 15 completed out of 30 , Loss: 10.7076105584\n",
      "Epoch: 16 completed out of 30 , Loss: 12.8580679388\n",
      "Epoch: 17 completed out of 30 , Loss: 9.05914837971\n",
      "Epoch: 18 completed out of 30 , Loss: 8.87101480923\n",
      "Epoch: 19 completed out of 30 , Loss: 10.8179464979\n",
      "Epoch: 20 completed out of 30 , Loss: 7.35410370032\n",
      "Epoch: 21 completed out of 30 , Loss: 14.1755642061\n",
      "Epoch: 22 completed out of 30 , Loss: 8.54630232282\n",
      "Epoch: 23 completed out of 30 , Loss: 6.69977675854\n",
      "Epoch: 24 completed out of 30 , Loss: 8.67533287673\n",
      "Epoch: 25 completed out of 30 , Loss: 7.86922078384\n",
      "Epoch: 26 completed out of 30 , Loss: 9.58312679309\n",
      "Epoch: 27 completed out of 30 , Loss: 7.7024786468\n",
      "Epoch: 28 completed out of 30 , Loss: 6.35767670097\n",
      "Epoch: 29 completed out of 30 , Loss: 10.0699561448\n",
      "Epoch: 30 completed out of 30 , Loss: 5.75050567182\n",
      "Accuracy:  98.0899989605\n"
     ]
    }
   ],
   "source": [
    "# Run\n",
    "train_neural_network(x)"
   ]
  },
  {
   "cell_type": "code",
   "execution_count": null,
   "metadata": {},
   "outputs": [],
   "source": []
  }
 ],
 "metadata": {
  "kernelspec": {
   "display_name": "Python 3",
   "language": "python",
   "name": "python3"
  },
  "language_info": {
   "codemirror_mode": {
    "name": "ipython",
    "version": 3
   },
   "file_extension": ".py",
   "mimetype": "text/x-python",
   "name": "python",
   "nbconvert_exporter": "python",
   "pygments_lexer": "ipython3",
   "version": "3.6.5"
  }
 },
 "nbformat": 4,
 "nbformat_minor": 2
}
